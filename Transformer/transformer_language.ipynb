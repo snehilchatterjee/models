{
 "cells": [
  {
   "cell_type": "code",
   "execution_count": 4,
   "id": "4991abd7-2c1a-423c-a2c0-1feb7c95fcd6",
   "metadata": {},
   "outputs": [],
   "source": [
    "import torch\n",
    "from torch import nn\n",
    "import math"
   ]
  },
  {
   "cell_type": "code",
   "execution_count": 12,
   "id": "cdfb1f5c-dd4a-4d36-809e-5d1148bb25c0",
   "metadata": {},
   "outputs": [],
   "source": [
    "class InputEmbeddings(nn.Module):\n",
    "    def __init__(self,d_model: int,vocab_size: int):\n",
    "        super().__init__()\n",
    "        self.d_model=d_model\n",
    "        self.vocab_size=vocab_size\n",
    "        self.embedding=nn.Embedding(vocab_size,d_model)\n",
    "\n",
    "    def forward(self, x):\n",
    "        return self.embedding(x) * math.sqrt(self.d_model)"
   ]
  },
  {
   "cell_type": "code",
   "execution_count": 73,
   "id": "0d9ce78f-96cc-47e7-92e2-77903bae2ad8",
   "metadata": {},
   "outputs": [],
   "source": [
    "class PositionalEncoding(nn.Module):\n",
    "    def __init__(self,d_model: int,seq_len: int,dropout: float):\n",
    "        super().__init__()\n",
    "        self.d_model=d_model\n",
    "        self.seq_len=seq_len\n",
    "        self.dropout=nn.Dropout(p=dropout)\n",
    "\n",
    "        pe=torch.zeros(seq_len,d_model)\n",
    "\n",
    "        pos=torch.arange(0,seq_len,dtype=torch.float).unsqueeze(1)\n",
    "\n",
    "        div_term=torch.exp(torch.arange(0,512,2).float()*(-math.log(10000.0)/512))\n",
    "        \n",
    "        pe[:,0::2]=torch.sin(pos*div_term)\n",
    "        pe[:,1::2]=torch.cos(pos*div_term)\n",
    "\n",
    "        pe=pe.unsqueeze(0)\n",
    "\n",
    "        self.register_buffer('pe',pe)\n",
    "\n",
    "    def forward(self,x):\n",
    "        x=x+(self.pe[:,:x.shape[1],:]).requires_grad_(False)\n",
    "        print(self.pe[:,:x.shape[1],:].shape)\n",
    "        return self.dropout(x)"
   ]
  },
  {
   "cell_type": "code",
   "execution_count": null,
   "id": "c92ea0b4-6153-4514-a0d3-de024431f866",
   "metadata": {},
   "outputs": [],
   "source": []
  }
 ],
 "metadata": {
  "kernelspec": {
   "display_name": "Python 3 (ipykernel)",
   "language": "python",
   "name": "python3"
  },
  "language_info": {
   "codemirror_mode": {
    "name": "ipython",
    "version": 3
   },
   "file_extension": ".py",
   "mimetype": "text/x-python",
   "name": "python",
   "nbconvert_exporter": "python",
   "pygments_lexer": "ipython3",
   "version": "3.11.5"
  }
 },
 "nbformat": 4,
 "nbformat_minor": 5
}
