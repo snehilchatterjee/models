{
 "cells": [
  {
   "cell_type": "code",
   "execution_count": 1,
   "id": "4991abd7-2c1a-423c-a2c0-1feb7c95fcd6",
   "metadata": {},
   "outputs": [],
   "source": [
    "import torch\n",
    "from torch import nn\n",
    "import math"
   ]
  },
  {
   "cell_type": "code",
   "execution_count": 2,
   "id": "cdfb1f5c-dd4a-4d36-809e-5d1148bb25c0",
   "metadata": {},
   "outputs": [],
   "source": [
    "class InputEmbeddings(nn.Module):\n",
    "    def __init__(self,d_model: int,vocab_size: int):\n",
    "        super().__init__()\n",
    "        self.d_model=d_model\n",
    "        self.vocab_size=vocab_size\n",
    "        self.embedding=nn.Embedding(vocab_size,d_model)\n",
    "\n",
    "    def forward(self, x):\n",
    "        return self.embedding(x) * math.sqrt(self.d_model)"
   ]
  },
  {
   "cell_type": "code",
   "execution_count": 3,
   "id": "0d9ce78f-96cc-47e7-92e2-77903bae2ad8",
   "metadata": {},
   "outputs": [],
   "source": [
    "class PositionalEncoding(nn.Module):\n",
    "    def __init__(self,d_model: int,seq_len: int,dropout: float):\n",
    "        super().__init__()\n",
    "        self.d_model=d_model\n",
    "        self.seq_len=seq_len\n",
    "        self.dropout=nn.Dropout(p=dropout)\n",
    "\n",
    "        pe=torch.zeros(seq_len,d_model)\n",
    "\n",
    "        pos=torch.arange(0,seq_len,dtype=torch.float).unsqueeze(1)\n",
    "\n",
    "        div_term=torch.exp(torch.arange(0,self.d_model,2).float()*(-math.log(10000.0)/self.d_model))\n",
    "        \n",
    "        pe[:,0::2]=torch.sin(pos*div_term)\n",
    "        pe[:,1::2]=torch.cos(pos*div_term)\n",
    "\n",
    "        pe=pe.unsqueeze(0)\n",
    "\n",
    "        self.register_buffer('pe',pe)\n",
    "\n",
    "    def forward(self,x):\n",
    "        x=x+(self.pe[:,:x.shape[1],:]).requires_grad_(False)\n",
    "        print(self.pe[:,:x.shape[1],:].shape)\n",
    "        return self.dropout(x)"
   ]
  },
  {
   "cell_type": "code",
   "execution_count": 4,
   "id": "c92ea0b4-6153-4514-a0d3-de024431f866",
   "metadata": {},
   "outputs": [],
   "source": [
    "class LayerNormalization(nn.Module):\n",
    "    def __init__(self,eps: float=1e-6):\n",
    "        super().__init__()\n",
    "        self.eps=eps\n",
    "        self.alpha=nn.Parameter(torch.ones(1))\n",
    "        self.bias=nn.Parameter(torch.zeros(1))\n",
    "\n",
    "    def forward(self,x):\n",
    "        mean=x.mean(dim=-1,keepdim=True)\n",
    "        std=x.std(dim=-1,keepdim=True)\n",
    "        return (self.alpha*(x-mean)/(std+self.eps))+self.bias"
   ]
  },
  {
   "cell_type": "code",
   "execution_count": 5,
   "id": "154ffa26-bf07-45bc-9ab7-148d0c3d80a5",
   "metadata": {},
   "outputs": [],
   "source": [
    "class FeedForwardBlock(nn.Module):\n",
    "    def __init__(self,d_model: int, d_ff: int,droput:float):\n",
    "        super().__init__()\n",
    "        self.linear_1=nn.Linear(d_model,d_ff)\n",
    "        self.dropout=nn.dropout(dropout)\n",
    "        self.linear_2=nn.Linear(d_ff,d_model)\n",
    "\n",
    "    def forward(self,x):\n",
    "        return self.linear_2(self.dropout(self.linear_1(x)))"
   ]
  },
  {
   "cell_type": "code",
   "execution_count": 6,
   "id": "72876a00-7ad9-4465-b8eb-e46288bc9692",
   "metadata": {},
   "outputs": [],
   "source": [
    "class MultiHeadAttentionBlock(nn.Module):\n",
    "\n",
    "    def __init__(self,d_model: int,h: int,dropout: float):\n",
    "        super().__init__()\n",
    "        self.d_model=d_model\n",
    "        self.h=h\n",
    "        self.dropout=nn.Dropout(p=self.dropout)\n",
    "        assert d_model%h==0, f\"{d_model} is not divisible by {h}\"\n",
    "\n",
    "        self.d_k=d_model//h\n",
    "        self.w_q=nn.Linear(d_model,d_model) #Wq\n",
    "        self.w_k=nn.Linear(d_model,d_model) #Wk\n",
    "        self.w_v=nn.Linear(d_model,d_model) #Wv\n",
    "\n",
    "        self.w_o=nn.Linear(d_model,d_model) #Wo\n",
    "\n",
    "    @staticmethod\n",
    "    def attention(query, key, value, mask, dropout: nn.Dropout):\n",
    "        d_k=query.shape[-1]\n",
    "\n",
    "        attention_scores=(query@key.transpose(-2,-1))/math.sqrt(d_k)\n",
    "        if(mask is not None):\n",
    "            attention_scores.masked_fill_(mask==0,-1e9)\n",
    "        attention_scores=attention_scores.softmax(dim=-1)\n",
    "        if(dropout is not None):\n",
    "            attention_scores=dropout(attention_scores)\n",
    "\n",
    "        return (attention_scores@value), attention_scores\n",
    "\n",
    "    def forward(self,q,k,v,mask):\n",
    "        query=self.w_q(q) # (Batch, seq_len, d_model) --> (Batch, seq_len, d_model)\n",
    "        key=self.w_k(k) # (Batch, seq_len, d_model) --> (Batch, seq_len, d_model)\n",
    "        value=self.w_v(v) # (Batch, seq_len, d_model) --> (Batch, seq_len, d_model)\n",
    "\n",
    "        # (Batch, seq_len, d_model) --> (Batch, seq_len, h, d_model) --> (Batch, h , seq_len, d_k)\n",
    "\n",
    "        query=query.view(query.shape[0],query.shape[1],self.h,self.d_k).transpose(1,2)\n",
    "        key=query.view(query.shape[0],query.shape[1],self.h,self.d_k).transpose(1,2)\n",
    "        value=query.view(query.shape[0],query.shape[1],self.h,self.d_k).transpose(1,2)\n",
    "\n",
    "        x, self.attention_scores=MultiHeadAttentionBlock.attention(query, key, value, mask, self.dropout)\n",
    "\n",
    "        # (Batch, h, seq_len, d_k) --> (Batch, seq_len, h, d_k) --> (Batch, seq_len, d_model)\n",
    "        x=x.transpose(1,2).contiguous().view(x.shape[0],-1,self.h*self.d_k)\n",
    "\n",
    "        # (Batch, seq_len, d_model) --> (Batch, seq_len, d_model)\n",
    "        return self.w_o(x)"
   ]
  },
  {
   "cell_type": "code",
   "execution_count": 7,
   "id": "fa4fca95-bf3a-446a-8a0f-a882dc10f6ac",
   "metadata": {},
   "outputs": [],
   "source": [
    "class ResidualConnection(nn.Module):\n",
    "    def __init__(self, dropout: float):\n",
    "        super().__init__()\n",
    "        self.dropout=nn.Dropout(dropout)\n",
    "        self.norm=LayerNormalization()\n",
    "\n",
    "    def forward(self,x,sublayer):\n",
    "        return x+self.dropout(sublayer(self.norm(x)))"
   ]
  },
  {
   "cell_type": "code",
   "execution_count": 8,
   "id": "fd743b59-897a-4319-a7f5-0071ab7b89ca",
   "metadata": {},
   "outputs": [],
   "source": [
    "class EncoderBlock(nn.Module):\n",
    "    def __init__(self,self_attention_block: MultiHeadAttentionBlock, feed_forward_block: FeedForwardBlock, dropout:float):\n",
    "        super().__init__()\n",
    "        self.self_attention_block=self_attention_block\n",
    "        self.feed_forward_block=feed_forward_block\n",
    "        self.residual_connections=nn.ModuleList([ResidualConnection(dropout) for _ in range(2)])\n",
    "\n",
    "    def forward(self,x,src_mask):\n",
    "        x=self.residual_connections[0](x,lambda x: self.self_attention_block(x,x,x,src_mask))\n",
    "        x=self.residual_connections[1](x,self.feed_forward_block(x))\n",
    "        return x"
   ]
  },
  {
   "cell_type": "code",
   "execution_count": null,
   "id": "714f3494-52fe-44da-a806-c0fb07d5c805",
   "metadata": {},
   "outputs": [],
   "source": []
  },
  {
   "cell_type": "code",
   "execution_count": null,
   "id": "62d13d46-c629-4e45-a49a-23162382284e",
   "metadata": {},
   "outputs": [],
   "source": []
  }
 ],
 "metadata": {
  "kernelspec": {
   "display_name": "Python 3 (ipykernel)",
   "language": "python",
   "name": "python3"
  },
  "language_info": {
   "codemirror_mode": {
    "name": "ipython",
    "version": 3
   },
   "file_extension": ".py",
   "mimetype": "text/x-python",
   "name": "python",
   "nbconvert_exporter": "python",
   "pygments_lexer": "ipython3",
   "version": "3.11.5"
  }
 },
 "nbformat": 4,
 "nbformat_minor": 5
}
